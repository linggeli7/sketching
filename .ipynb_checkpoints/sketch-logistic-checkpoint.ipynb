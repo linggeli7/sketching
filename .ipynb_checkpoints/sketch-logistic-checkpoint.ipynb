{
 "cells": [
  {
   "cell_type": "code",
   "execution_count": 153,
   "metadata": {
    "collapsed": true
   },
   "outputs": [],
   "source": [
    "import numpy as np\n",
    "import tensorflow as tf\n",
    "import time"
   ]
  },
  {
   "cell_type": "code",
   "execution_count": 154,
   "metadata": {
    "collapsed": false
   },
   "outputs": [],
   "source": [
    "# N observations with D parameters\n",
    "N = 2**12\n",
    "D = 50\n",
    "# projection dimension\n",
    "K = 500\n",
    "# variance parameter\n",
    "sigma = 3\n",
    "# Y = Xb + N(0, sigma)\n",
    "#beta_true = np.random.uniform(-10, 10, D).reshape(D, 1)\n",
    "beta_true = np.array([[1], [2], [3], [4], [5]])\n",
    "dataX = np.random.normal(0, 1, N * D).reshape(N, D)\n",
    "dataY = np.random.normal(0, sigma, N).reshape(N, 1) + np.dot(dataX, beta_true)"
   ]
  },
  {
   "cell_type": "code",
   "execution_count": 155,
   "metadata": {
    "collapsed": false
   },
   "outputs": [],
   "source": [
    "beta_LS = np.dot(np.dot(np.linalg.inv(np.dot(np.transpose(dataX), dataX)), np.transpose(dataX)), dataY)"
   ]
  },
  {
   "cell_type": "code",
   "execution_count": 156,
   "metadata": {
    "collapsed": true
   },
   "outputs": [],
   "source": [
    "# placeholding tensors and variable\n",
    "X = tf.placeholder('float', [None, D]) \n",
    "Y = tf.placeholder('float', [None, 1.0])\n",
    "beta = tf.Variable(tf.random_normal([D, 1], stddev=1.0))"
   ]
  },
  {
   "cell_type": "code",
   "execution_count": 157,
   "metadata": {
    "collapsed": false
   },
   "outputs": [],
   "source": [
    "# linear regression with mean squared error\n",
    "Y_hat = tf.matmul(X, beta)\n",
    "MSE = tf.reduce_sum(tf.square(Y - Y_hat))"
   ]
  },
  {
   "cell_type": "code",
   "execution_count": 158,
   "metadata": {
    "collapsed": false
   },
   "outputs": [],
   "source": [
    "# gradient\n",
    "grad = tf.gradients(MSE, beta)"
   ]
  },
  {
   "cell_type": "code",
   "execution_count": 159,
   "metadata": {
    "collapsed": false
   },
   "outputs": [],
   "source": [
    "# hessian (or use tf.hessians in Tensorflow 1.0)\n",
    "def compute_hessian():\n",
    "    for i in range(D):\n",
    "        # element in the gradient vector\n",
    "        dfdx_i = tf.slice(grad[0], begin=[i, 0], size=[1, 1])\n",
    "        # differentiate again\n",
    "        ddfdx2_i = tf.gradients(dfdx_i, beta)[0]\n",
    "        # combine second derivative vectors\n",
    "        if i == 0:\n",
    "            hess = ddfdx2_i\n",
    "        else:\n",
    "            hess = tf.concat([hess, ddfdx2_i], 1)\n",
    "    return(hess)\n",
    "\n",
    "hessian = compute_hessian()"
   ]
  },
  {
   "cell_type": "code",
   "execution_count": 160,
   "metadata": {
    "collapsed": false
   },
   "outputs": [],
   "source": [
    "# fisher information\n",
    "fisher = tf.matrix_inverse(hessian)"
   ]
  },
  {
   "cell_type": "code",
   "execution_count": 161,
   "metadata": {
    "collapsed": true
   },
   "outputs": [],
   "source": [
    "# update beta by delta\n",
    "delta = tf.placeholder('float', [D, 1])\n",
    "drop = beta.assign_add(delta)"
   ]
  },
  {
   "cell_type": "code",
   "execution_count": 162,
   "metadata": {
    "collapsed": false,
    "scrolled": false
   },
   "outputs": [],
   "source": [
    "beta_sketch = np.zeros((D, 1))\n",
    "\n",
    "with tf.Session() as sess:\n",
    "    tf.global_variables_initializer().run()\n",
    "    for i in range(0, 20):\n",
    "        # gaussian random projection\n",
    "        S = np.random.normal(0, 1, K * N).reshape(K, N)\n",
    "        SX = np.dot(S, dataX)\n",
    "        SY = np.dot(S, dataY)\n",
    "        # compute gradient\n",
    "        g = sess.run(grad, feed_dict={X: SX, Y: SY})[0]\n",
    "        # compute hessian\n",
    "        I = sess.run(fisher, feed_dict={X: SX, Y: SY})\n",
    "        # drop\n",
    "        sess.run(drop, feed_dict={delta : -np.dot(I, g)})\n",
    "    beta_sketch = beta.eval()"
   ]
  },
  {
   "cell_type": "code",
   "execution_count": 163,
   "metadata": {
    "collapsed": false,
    "scrolled": true
   },
   "outputs": [
    {
     "name": "stdout",
     "output_type": "stream",
     "text": [
      "0.0149597590399\n",
      "0.155153903846\n",
      "0.214066917926\n",
      "0.11076192784\n"
     ]
    }
   ],
   "source": [
    "#ratio = np.mean(np.square(beta_true - beta_sketch)) / np.mean(np.square(beta_true - beta_LS))\n",
    "ratio = np.linalg.norm(beta_sketch - beta_LS) / np.linalg.norm(beta_LS)\n",
    "\n",
    "print(ratio)\n",
    "print(np.linalg.norm(beta_LS - beta_true))\n",
    "print(np.linalg.norm(beta_sketch - beta_true))\n",
    "print(np.linalg.norm(beta_LS - beta_sketch))"
   ]
  },
  {
   "cell_type": "code",
   "execution_count": 164,
   "metadata": {
    "collapsed": false,
    "scrolled": true
   },
   "outputs": [
    {
     "name": "stdout",
     "output_type": "stream",
     "text": [
      "[[ 1.06418434]\n",
      " [ 2.10862843]\n",
      " [ 2.92607846]\n",
      " [ 3.94884799]\n",
      " [ 5.00848795]]\n",
      "[[ 1.1277833 ]\n",
      " [ 2.15895081]\n",
      " [ 2.95877457]\n",
      " [ 3.98613214]\n",
      " [ 4.95163822]]\n"
     ]
    }
   ],
   "source": [
    "print(beta_LS)\n",
    "print(beta_sketch)"
   ]
  }
 ],
 "metadata": {
  "anaconda-cloud": {},
  "kernelspec": {
   "display_name": "Python 3",
   "language": "python",
   "name": "python3"
  },
  "language_info": {
   "codemirror_mode": {
    "name": "ipython",
    "version": 3
   },
   "file_extension": ".py",
   "mimetype": "text/x-python",
   "name": "python",
   "nbconvert_exporter": "python",
   "pygments_lexer": "ipython3",
   "version": "3.6.0"
  }
 },
 "nbformat": 4,
 "nbformat_minor": 1
}
