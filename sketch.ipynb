{
 "cells": [
  {
   "cell_type": "code",
   "execution_count": 1,
   "metadata": {
    "collapsed": true
   },
   "outputs": [],
   "source": [
    "import numpy as np\n",
    "import tensorflow as tf\n",
    "import time"
   ]
  },
  {
   "cell_type": "code",
   "execution_count": 2,
   "metadata": {
    "collapsed": false
   },
   "outputs": [],
   "source": [
    "# N observations with D parameters\n",
    "N = 2000\n",
    "D = 50\n",
    "# projection dimension\n",
    "K = 400\n",
    "# variance parameter\n",
    "sigma = 3\n",
    "# Y = Xb + N(0, sigma)\n",
    "beta_true = np.random.uniform(-10, 10, D).reshape(D, 1)\n",
    "dataX = np.random.normal(0, 1, N * D).reshape(N, D)\n",
    "dataY = np.random.normal(0, sigma, N).reshape(N, 1) + np.dot(dataX, beta_true)"
   ]
  },
  {
   "cell_type": "code",
   "execution_count": 3,
   "metadata": {
    "collapsed": false
   },
   "outputs": [],
   "source": [
    "beta_LS = np.dot(np.dot(np.linalg.inv(np.dot(np.transpose(dataX), dataX)), np.transpose(dataX)), dataY)"
   ]
  },
  {
   "cell_type": "code",
   "execution_count": 4,
   "metadata": {
    "collapsed": true
   },
   "outputs": [],
   "source": [
    "# placeholding tensors and variable\n",
    "X = tf.placeholder('float', [None, D]) \n",
    "Y = tf.placeholder('float', [None, 1.0])\n",
    "beta = tf.Variable(tf.random_normal([D, 1], stddev=1.0))"
   ]
  },
  {
   "cell_type": "code",
   "execution_count": 5,
   "metadata": {
    "collapsed": false
   },
   "outputs": [],
   "source": [
    "# linear regression with mean squared error\n",
    "Y_hat = tf.matmul(X, beta)\n",
    "MSE = tf.reduce_sum(tf.square(Y - Y_hat))"
   ]
  },
  {
   "cell_type": "code",
   "execution_count": 6,
   "metadata": {
    "collapsed": false
   },
   "outputs": [],
   "source": [
    "# gradient\n",
    "grad = tf.gradients(MSE, beta)"
   ]
  },
  {
   "cell_type": "code",
   "execution_count": 7,
   "metadata": {
    "collapsed": false
   },
   "outputs": [],
   "source": [
    "# hessian (or use tf.hessians in Tensorflow 1.0)\n",
    "def compute_hessian():\n",
    "    for i in range(D):\n",
    "        # element in the gradient vector\n",
    "        dfdx_i = tf.slice(grad[0], begin=[i, 0], size=[1, 1])\n",
    "        # differentiate again\n",
    "        ddfdx2_i = tf.gradients(dfdx_i, beta)[0]\n",
    "        # combine second derivative vectors\n",
    "        if i == 0:\n",
    "            hess = ddfdx2_i\n",
    "        else:\n",
    "            hess = tf.concat(1, [hess, ddfdx2_i])\n",
    "    return(hess)\n",
    "\n",
    "hessian = compute_hessian()"
   ]
  },
  {
   "cell_type": "code",
   "execution_count": 8,
   "metadata": {
    "collapsed": true
   },
   "outputs": [],
   "source": [
    "# fisher information\n",
    "fisher = tf.matrix_inverse(hessian)"
   ]
  },
  {
   "cell_type": "code",
   "execution_count": 9,
   "metadata": {
    "collapsed": true
   },
   "outputs": [],
   "source": [
    "# update beta by delta\n",
    "delta = tf.placeholder('float', [D, 1])\n",
    "drop = beta.assign_add(delta)"
   ]
  },
  {
   "cell_type": "code",
   "execution_count": 10,
   "metadata": {
    "collapsed": false,
    "scrolled": false
   },
   "outputs": [],
   "source": [
    "beta_sketch = np.zeros((D, 1))\n",
    "\n",
    "with tf.Session() as sess:\n",
    "    tf.initialize_all_variables().run()\n",
    "    for i in range(0, 10):\n",
    "        # gaussian random projection\n",
    "        S = np.random.normal(0, 1, K * N).reshape(K, N)\n",
    "        SX = np.dot(S, dataX)\n",
    "        SY = np.dot(S, dataY)\n",
    "        # compute gradient\n",
    "        g = sess.run(grad, feed_dict={X: SX, Y: SY})[0]\n",
    "        # compute hessian\n",
    "        I = sess.run(fisher, feed_dict={X: SX, Y: SY})\n",
    "        # drop\n",
    "        sess.run(drop, feed_dict={delta : -np.dot(I, g)})\n",
    "    beta_sketch = beta.eval()"
   ]
  },
  {
   "cell_type": "code",
   "execution_count": 11,
   "metadata": {
    "collapsed": false
   },
   "outputs": [
    {
     "name": "stdout",
     "output_type": "stream",
     "text": [
      "6.62398758447\n"
     ]
    }
   ],
   "source": [
    "ratio = np.mean(np.square(beta_true - beta_sketch)) / np.mean(np.square(beta_true - beta_LS))\n",
    "print(ratio)"
   ]
  }
 ],
 "metadata": {
  "anaconda-cloud": {},
  "kernelspec": {
   "display_name": "Python 3",
   "language": "python",
   "name": "python3"
  },
  "language_info": {
   "codemirror_mode": {
    "name": "ipython",
    "version": 3
   },
   "file_extension": ".py",
   "mimetype": "text/x-python",
   "name": "python",
   "nbconvert_exporter": "python",
   "pygments_lexer": "ipython3",
   "version": "3.5.1"
  }
 },
 "nbformat": 4,
 "nbformat_minor": 1
}
